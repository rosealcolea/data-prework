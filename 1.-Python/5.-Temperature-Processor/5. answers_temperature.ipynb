{
 "cells": [
  {
   "cell_type": "markdown",
   "metadata": {},
   "source": [
    "<img src=\"https://bit.ly/2VnXWr2\" width=\"100\" align=\"left\">"
   ]
  },
  {
   "cell_type": "markdown",
   "metadata": {},
   "source": [
    "# Temperature Sensor\n",
    "\n",
    "There is a temperature sensor in the processor of your company's server. The company wants to analyze the data provided by the sensor to decide if they should change the cooling system for a better one. As changing the cooling system is expensive and you are an excellent data analyst, you can't make a decision without basis.\n",
    "\n",
    "## Tools\n",
    "You don't necessarily need to use all the tools. Maybe you opt to use some of them or completely different ones, they are given to help you shape the exercise. Programming exercises can be solved in many different ways.\n",
    "1. Data structures: **lists**\n",
    "2. Loops: **list comprehension**\n",
    "3. Functions: **min, max, print, len**\n",
    "4. Conditional statements: **if-elif-else**\n",
    "\n",
    "## Tasks\n",
    "The temperatures measured throughout the 24 hours of a day are:"
   ]
  },
  {
   "cell_type": "code",
   "execution_count": 1,
   "metadata": {},
   "outputs": [],
   "source": [
    "temp = [33, 66, 65, 0, 59, 60, 62, 64, 70, 76, 80, 81, 80, 83, 90, 79, 61, 53, 50, 49, 53, 48, 45, 39]"
   ]
  },
  {
   "cell_type": "markdown",
   "metadata": {},
   "source": [
    "The first element of the list is the temperature at 12am, the second element is the temperature at 1am, and so on. \n",
    "\n",
    "The company has decided that if one of the following events occurs, then the cooling system needs to be replaced for a new one to avoid damaging the processor.\n",
    "* More than 4 temperatures are greater than or equal to 70ºC.\n",
    "* Any temperature is above 80ºC.\n",
    "* The average temperature exceeds 65ºC.\n",
    "\n",
    "Follow the steps so that you can make the decision.\n",
    "\n",
    "#### 1. Find the minimum temperature of the day and store it in a variable."
   ]
  },
  {
   "cell_type": "code",
   "execution_count": 2,
   "metadata": {},
   "outputs": [
    {
     "data": {
      "text/plain": [
       "0"
      ]
     },
     "execution_count": 2,
     "metadata": {},
     "output_type": "execute_result"
    }
   ],
   "source": [
    "min_t = min(temp)\n",
    "min_t"
   ]
  },
  {
   "cell_type": "markdown",
   "metadata": {},
   "source": [
    "#### 2. Find the maximum temperature of the day and store it in a variable."
   ]
  },
  {
   "cell_type": "code",
   "execution_count": 3,
   "metadata": {},
   "outputs": [
    {
     "data": {
      "text/plain": [
       "90"
      ]
     },
     "execution_count": 3,
     "metadata": {},
     "output_type": "execute_result"
    }
   ],
   "source": [
    "max_t = max(temp)\n",
    "max_t"
   ]
  },
  {
   "cell_type": "markdown",
   "metadata": {},
   "source": [
    "#### 3. Create a list with the temperatures that are greater than or equal to 70ºC. Store it in a variable."
   ]
  },
  {
   "cell_type": "code",
   "execution_count": 4,
   "metadata": {},
   "outputs": [
    {
     "data": {
      "text/plain": [
       "[70, 76, 80, 81, 80, 83, 90, 79]"
      ]
     },
     "execution_count": 4,
     "metadata": {},
     "output_type": "execute_result"
    }
   ],
   "source": [
    "temp_70 = [t for t in temp if t >= 70]\n",
    "temp_70"
   ]
  },
  {
   "cell_type": "markdown",
   "metadata": {},
   "source": [
    "#### 4. Find the average temperature of the day and store it in a variable."
   ]
  },
  {
   "cell_type": "code",
   "execution_count": 7,
   "metadata": {},
   "outputs": [
    {
     "data": {
      "text/plain": [
       "60.25"
      ]
     },
     "execution_count": 7,
     "metadata": {},
     "output_type": "execute_result"
    }
   ],
   "source": [
    "mean_t = sum(temp)/len(temp)\n",
    "mean_t"
   ]
  },
  {
   "cell_type": "markdown",
   "metadata": {},
   "source": [
    "#### 5. Imagine that there was a sensor failure at 3am and the data for that specific hour was not recorded. How would you estimate the missing value? Replace the current value of the list at 3am for an estimation. "
   ]
  },
  {
   "cell_type": "code",
   "execution_count": 13,
   "metadata": {},
   "outputs": [
    {
     "data": {
      "text/plain": [
       "62"
      ]
     },
     "execution_count": 13,
     "metadata": {},
     "output_type": "execute_result"
    }
   ],
   "source": [
    "temp[3] = int((temp[2]+temp[4])/2)\n",
    "temp[3]"
   ]
  },
  {
   "cell_type": "markdown",
   "metadata": {},
   "source": [
    "#### 6. Bonus: the maintenance staff is from the United States and does not understand the international metric system. Help them by converting the temperatures from Celsius to Fahrenheit.\n",
    "To know more about temperature conversion check this [link](https://en.wikipedia.org/wiki/Conversion_of_units_of_temperature).\n",
    "\n",
    "**Formula**: \n",
    "\n",
    "$F = 1.8 * C + 32$"
   ]
  },
  {
   "cell_type": "code",
   "execution_count": 17,
   "metadata": {},
   "outputs": [
    {
     "data": {
      "text/plain": [
       "[91,\n",
       " 150,\n",
       " 149,\n",
       " 143,\n",
       " 138,\n",
       " 140,\n",
       " 143,\n",
       " 147,\n",
       " 158,\n",
       " 168,\n",
       " 176,\n",
       " 177,\n",
       " 176,\n",
       " 181,\n",
       " 194,\n",
       " 174,\n",
       " 141,\n",
       " 127,\n",
       " 122,\n",
       " 120,\n",
       " 127,\n",
       " 118,\n",
       " 113,\n",
       " 102]"
      ]
     },
     "execution_count": 17,
     "metadata": {},
     "output_type": "execute_result"
    }
   ],
   "source": [
    "temp_F = [int(1.8*t+32) for t in temp]\n",
    "temp_F"
   ]
  },
  {
   "cell_type": "markdown",
   "metadata": {},
   "source": [
    "#### 7. Make a decision!\n",
    "Now it's time to make a decision taking into account what you have seen until now. \n",
    "\n",
    "Remember that if one of the following events occurs, then the cooling system needs to be replaced for a new one to avoid damaging the processor.\n",
    "* More than 4 temperatures are greater than or equal to 70ºC.\n",
    "* Any temperature is above 80ºC.\n",
    "* The average temperature exceeds 65ºC.\n",
    "\n",
    "#### To make your decision, check if any of the three conditions above is met. You might need to use some of the variables you created in steps 1 to 6. Print a message to show if the cooling system needs to be changed or not."
   ]
  },
  {
   "cell_type": "code",
   "execution_count": 18,
   "metadata": {},
   "outputs": [
    {
     "name": "stdout",
     "output_type": "stream",
     "text": [
      "New cooling system needed.\n"
     ]
    }
   ],
   "source": [
    "if (len(temp_70)>4) | (max_t>80) | (mean_t>65):\n",
    "    print('New cooling system needed.')\n",
    "else:\n",
    "    print('New cooling system not needed.')"
   ]
  },
  {
   "cell_type": "markdown",
   "metadata": {},
   "source": [
    "## Bonus\n",
    "\n",
    "The company has decided that the decision you made is not valid. They want you to analyze the data again but this time, the conditions that need to be met in order to change the cooling system are different.\n",
    "\n",
    "This time, if one of the following events occurs, then the cooling system needs to be replaced:\n",
    "* The temperature is greater than 70ºC during more than 4 consecutive hours.\n",
    "* Any temperature is above 80ºC.\n",
    "* The average temperature exceeds 65ºC.\n",
    "\n",
    "Follow the steps so that you can make the decision.\n",
    "\n",
    "#### 1. Create a list with the hours where the temperature is greater than 70ºC. Store it in a variable."
   ]
  },
  {
   "cell_type": "code",
   "execution_count": 22,
   "metadata": {},
   "outputs": [
    {
     "data": {
      "text/plain": [
       "[9, 10, 11, 12, 13, 14, 15]"
      ]
     },
     "execution_count": 22,
     "metadata": {},
     "output_type": "execute_result"
    }
   ],
   "source": [
    "hour_70 = [i for i in range(len(temp)) if temp[i] > 70]\n",
    "hour_70"
   ]
  },
  {
   "cell_type": "markdown",
   "metadata": {},
   "source": [
    "#### 2. Check if the list you created in step 1 has more than 4 consecutive hours. "
   ]
  },
  {
   "cell_type": "code",
   "execution_count": 26,
   "metadata": {},
   "outputs": [
    {
     "data": {
      "text/plain": [
       "6"
      ]
     },
     "execution_count": 26,
     "metadata": {},
     "output_type": "execute_result"
    }
   ],
   "source": [
    "n = 0\n",
    "for i in range(len(hour_70)-1):\n",
    "    if hour_70[i] == hour_70[i+1]-1:\n",
    "        n += 1\n",
    "n"
   ]
  },
  {
   "cell_type": "markdown",
   "metadata": {},
   "source": [
    "#### 3. Make the decision!\n",
    "To make your decision, check if any of the three conditions is met. Print a message to show if the cooling system needs to be changed or not."
   ]
  },
  {
   "cell_type": "code",
   "execution_count": 27,
   "metadata": {},
   "outputs": [
    {
     "name": "stdout",
     "output_type": "stream",
     "text": [
      "New cooling system needed.\n"
     ]
    }
   ],
   "source": [
    "if (n>4) | (max_t>80) | (mean_t>65):\n",
    "    print('New cooling system needed.')\n",
    "else:\n",
    "    print('New cooling system not needed.')"
   ]
  },
  {
   "cell_type": "markdown",
   "metadata": {},
   "source": [
    "#### 4. Find the average value of the temperature lists (ºC and ºF). What is the relation between both average values?"
   ]
  },
  {
   "cell_type": "code",
   "execution_count": 29,
   "metadata": {},
   "outputs": [
    {
     "name": "stdout",
     "output_type": "stream",
     "text": [
      "62.833333333333336\n",
      "144.79166666666666\n",
      "145.10000000000002\n"
     ]
    }
   ],
   "source": [
    "avg_t = sum(temp)/len(temp)\n",
    "print(avg_t)\n",
    "avg_t_F = sum(temp_F)/len(temp_F)\n",
    "print(avg_t_F)\n",
    "\n",
    "r = (1.8*avg_t+32)\n",
    "print(r)"
   ]
  },
  {
   "cell_type": "markdown",
   "metadata": {},
   "source": [
    "#### 5. Find the standard deviation of the temperature lists (ºC and ºF). What is the relation between both standard deviations?"
   ]
  },
  {
   "cell_type": "code",
   "execution_count": 32,
   "metadata": {},
   "outputs": [
    {
     "name": "stdout",
     "output_type": "stream",
     "text": [
      "14.94821980579356\n",
      "5.693040864574423\n"
     ]
    }
   ],
   "source": [
    "import statistics as st\n",
    "print(st.stdev(temp))\n",
    "print(st.stdev(temp_70))\n"
   ]
  },
  {
   "cell_type": "code",
   "execution_count": null,
   "metadata": {},
   "outputs": [],
   "source": []
  }
 ],
 "metadata": {
  "kernelspec": {
   "display_name": "Python 3",
   "language": "python",
   "name": "python3"
  },
  "language_info": {
   "codemirror_mode": {
    "name": "ipython",
    "version": 3
   },
   "file_extension": ".py",
   "mimetype": "text/x-python",
   "name": "python",
   "nbconvert_exporter": "python",
   "pygments_lexer": "ipython3",
   "version": "3.7.6"
  }
 },
 "nbformat": 4,
 "nbformat_minor": 2
}
